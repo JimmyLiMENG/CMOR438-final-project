{
 "cells": [
  {
   "cell_type": "code",
   "execution_count": 43,
   "id": "901da230-3598-434f-aefc-8794b715b3b8",
   "metadata": {},
   "outputs": [],
   "source": [
    "import pandas as pd\n",
    "import numpy as np\n",
    "import matplotlib.pyplot as plt\n",
    "%matplotlib inline"
   ]
  },
  {
   "cell_type": "code",
   "execution_count": 44,
   "id": "27a36d92-638d-4de5-8522-9adcdf081393",
   "metadata": {},
   "outputs": [],
   "source": [
    "df = pd.read_csv('/Users/limengfeiyang/CMOR438-final-project/data/telco_churn.csv')"
   ]
  },
  {
   "cell_type": "markdown",
   "id": "6322994d-29c6-4096-99bb-86a5d0984602",
   "metadata": {},
   "source": [
    "## 2.1 Drop Irrelevant Columns"
   ]
  },
  {
   "cell_type": "code",
   "execution_count": 45,
   "id": "3b61da50-8d02-464e-a455-e2377ed75db0",
   "metadata": {},
   "outputs": [],
   "source": [
    "df.drop(columns=[\"customerID\"], inplace=True, errors=\"ignore\")\n"
   ]
  },
  {
   "cell_type": "markdown",
   "id": "b0227c5d-90d3-45d7-b43b-21b92f552a71",
   "metadata": {},
   "source": [
    "## 2.2 Convert `TotalCharges` to Numeric"
   ]
  },
  {
   "cell_type": "code",
   "execution_count": 46,
   "id": "fef64528-3c7b-405e-b96d-0bb2ed54a010",
   "metadata": {},
   "outputs": [],
   "source": [
    "df[\"TotalCharges\"] = pd.to_numeric(df[\"TotalCharges\"], errors=\"coerce\")\n"
   ]
  },
  {
   "cell_type": "markdown",
   "id": "d87d7029-fb1b-4f11-a1df-feeb60074a82",
   "metadata": {},
   "source": [
    "## 2.3 Handle Missing `TotalCharges`"
   ]
  },
  {
   "cell_type": "code",
   "execution_count": 47,
   "id": "437dfdca-0c65-4572-808f-f267368b5e95",
   "metadata": {},
   "outputs": [
    {
     "name": "stdout",
     "output_type": "stream",
     "text": [
      "Missing TotalCharges before handling: 11\n"
     ]
    }
   ],
   "source": [
    "missing_before = df[\"TotalCharges\"].isnull().sum()\n",
    "print(\"Missing TotalCharges before handling:\", missing_before)\n"
   ]
  },
  {
   "cell_type": "markdown",
   "id": "9e1c4dfb-482b-455c-9e75-3e6f1ee18d0d",
   "metadata": {},
   "source": [
    "## 2.3.1 Drop Rows with Missing `TotalCharges`"
   ]
  },
  {
   "cell_type": "code",
   "execution_count": 48,
   "id": "6e5eb3ee-ad3d-4f03-9ee9-7987314bc7dd",
   "metadata": {},
   "outputs": [
    {
     "name": "stdout",
     "output_type": "stream",
     "text": [
      "Missing after drop: 0\n"
     ]
    }
   ],
   "source": [
    "df = df[df[\"TotalCharges\"].notnull()].copy()\n",
    "df.reset_index(drop=True, inplace=True)\n",
    "print(\"Missing after drop:\", df[\"TotalCharges\"].isnull().sum())\n"
   ]
  },
  {
   "cell_type": "markdown",
   "id": "0aeea435-b5c6-44f8-8ede-5a70c75b8ac5",
   "metadata": {},
   "source": [
    "## 2.4 Cast Numeric Columns"
   ]
  },
  {
   "cell_type": "code",
   "execution_count": 49,
   "id": "2a041da3-3a0d-42f5-a835-afd57a2e3e50",
   "metadata": {},
   "outputs": [
    {
     "name": "stdout",
     "output_type": "stream",
     "text": [
      "tenure            float64\n",
      "MonthlyCharges    float64\n",
      "TotalCharges      float64\n",
      "dtype: object\n"
     ]
    }
   ],
   "source": [
    "num_cols = [\"tenure\", \"MonthlyCharges\", \"TotalCharges\"]\n",
    "df[num_cols] = df[num_cols].astype(float)\n",
    "print(df[num_cols].dtypes)\n"
   ]
  },
  {
   "cell_type": "markdown",
   "id": "69b25d0e-00c9-437f-8c1c-10f48a218934",
   "metadata": {},
   "source": [
    "## 2.5 Encode Binary Categorical Features"
   ]
  },
  {
   "cell_type": "code",
   "execution_count": 50,
   "id": "175e1e94-a668-4272-aa1f-1a5df4d4fd96",
   "metadata": {},
   "outputs": [
    {
     "data": {
      "text/html": [
       "<div>\n",
       "<style scoped>\n",
       "    .dataframe tbody tr th:only-of-type {\n",
       "        vertical-align: middle;\n",
       "    }\n",
       "\n",
       "    .dataframe tbody tr th {\n",
       "        vertical-align: top;\n",
       "    }\n",
       "\n",
       "    .dataframe thead th {\n",
       "        text-align: right;\n",
       "    }\n",
       "</style>\n",
       "<table border=\"1\" class=\"dataframe\">\n",
       "  <thead>\n",
       "    <tr style=\"text-align: right;\">\n",
       "      <th></th>\n",
       "      <th>gender</th>\n",
       "      <th>Partner</th>\n",
       "      <th>Dependents</th>\n",
       "      <th>PhoneService</th>\n",
       "      <th>PaperlessBilling</th>\n",
       "      <th>Churn</th>\n",
       "    </tr>\n",
       "  </thead>\n",
       "  <tbody>\n",
       "    <tr>\n",
       "      <th>0</th>\n",
       "      <td>1</td>\n",
       "      <td>1</td>\n",
       "      <td>0</td>\n",
       "      <td>0</td>\n",
       "      <td>1</td>\n",
       "      <td>0</td>\n",
       "    </tr>\n",
       "    <tr>\n",
       "      <th>1</th>\n",
       "      <td>0</td>\n",
       "      <td>0</td>\n",
       "      <td>0</td>\n",
       "      <td>1</td>\n",
       "      <td>0</td>\n",
       "      <td>0</td>\n",
       "    </tr>\n",
       "    <tr>\n",
       "      <th>2</th>\n",
       "      <td>0</td>\n",
       "      <td>0</td>\n",
       "      <td>0</td>\n",
       "      <td>1</td>\n",
       "      <td>1</td>\n",
       "      <td>1</td>\n",
       "    </tr>\n",
       "    <tr>\n",
       "      <th>3</th>\n",
       "      <td>0</td>\n",
       "      <td>0</td>\n",
       "      <td>0</td>\n",
       "      <td>0</td>\n",
       "      <td>0</td>\n",
       "      <td>0</td>\n",
       "    </tr>\n",
       "    <tr>\n",
       "      <th>4</th>\n",
       "      <td>1</td>\n",
       "      <td>0</td>\n",
       "      <td>0</td>\n",
       "      <td>1</td>\n",
       "      <td>1</td>\n",
       "      <td>1</td>\n",
       "    </tr>\n",
       "  </tbody>\n",
       "</table>\n",
       "</div>"
      ],
      "text/plain": [
       "   gender  Partner  Dependents  PhoneService  PaperlessBilling  Churn\n",
       "0       1        1           0             0                 1      0\n",
       "1       0        0           0             1                 0      0\n",
       "2       0        0           0             1                 1      1\n",
       "3       0        0           0             0                 0      0\n",
       "4       1        0           0             1                 1      1"
      ]
     },
     "execution_count": 50,
     "metadata": {},
     "output_type": "execute_result"
    }
   ],
   "source": [
    "# Yes/No → 1/0 & Female/Male → 1/0\n",
    "df[\"gender\"] = df[\"gender\"].map({\"Female\": 1, \"Male\": 0})\n",
    "for col in [\"Partner\", \"Dependents\", \"PhoneService\", \"PaperlessBilling\", \"Churn\"]:\n",
    "    df[col] = df[col].map({\"Yes\": 1, \"No\": 0})\n",
    "    \n",
    "df[[\"gender\", \"Partner\", \"Dependents\", \"PhoneService\", \"PaperlessBilling\", \"Churn\"]].head()\n"
   ]
  },
  {
   "cell_type": "markdown",
   "id": "9516e6bd-5186-42f9-86fd-6f29e158a2d1",
   "metadata": {},
   "source": [
    "## 2.6 One‐Hot Encode Multi‐Category Features"
   ]
  },
  {
   "cell_type": "code",
   "execution_count": 51,
   "id": "6e33c647-31bf-404f-b10f-2cfda96e16ae",
   "metadata": {},
   "outputs": [
    {
     "name": "stdout",
     "output_type": "stream",
     "text": [
      "Total columns now: 31\n"
     ]
    }
   ],
   "source": [
    "multi_cat = [\n",
    "    \"MultipleLines\", \"InternetService\", \"OnlineSecurity\", \"OnlineBackup\",\n",
    "    \"DeviceProtection\", \"TechSupport\", \"StreamingTV\", \"StreamingMovies\",\n",
    "    \"Contract\", \"PaymentMethod\"\n",
    "]\n",
    "df = pd.get_dummies(df, columns=multi_cat, drop_first=True)\n",
    "\n",
    "# Verify new columns\n",
    "print(\"Total columns now:\", len(df.columns))\n"
   ]
  },
  {
   "cell_type": "markdown",
   "id": "552c4e65-6f4e-48c5-ac39-8501805e93f7",
   "metadata": {},
   "source": [
    "## 2.7 Save Cleaned Data"
   ]
  },
  {
   "cell_type": "code",
   "execution_count": 52,
   "id": "5a1f5b50-de07-404e-b890-53a65a603f68",
   "metadata": {},
   "outputs": [
    {
     "name": "stdout",
     "output_type": "stream",
     "text": [
      "Clean file written: /Users/limengfeiyang/CMOR438-final-project/data/telco_churn_clean.csv\n"
     ]
    }
   ],
   "source": [
    "df.to_csv(\"/Users/limengfeiyang/CMOR438-final-project/data/telco_churn_clean.csv\", index=False)\n",
    "print(\"Clean file written: /Users/limengfeiyang/CMOR438-final-project/data/telco_churn_clean.csv\")\n"
   ]
  }
 ],
 "metadata": {
  "kernelspec": {
   "display_name": "Python 3 (ipykernel)",
   "language": "python",
   "name": "python3"
  },
  "language_info": {
   "codemirror_mode": {
    "name": "ipython",
    "version": 3
   },
   "file_extension": ".py",
   "mimetype": "text/x-python",
   "name": "python",
   "nbconvert_exporter": "python",
   "pygments_lexer": "ipython3",
   "version": "3.8.9"
  }
 },
 "nbformat": 4,
 "nbformat_minor": 5
}
