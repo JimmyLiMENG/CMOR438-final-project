{
 "cells": [
  {
   "cell_type": "markdown",
   "id": "082ef1a6-b833-43e4-8cbd-ffd05d4088e8",
   "metadata": {},
   "source": [
    "### 5. Cleaning & Preprocessing Fashion-MNIST"
   ]
  },
  {
   "cell_type": "code",
   "execution_count": 9,
   "id": "5c6270ad-1ee9-4377-8db9-1899097cef89",
   "metadata": {},
   "outputs": [],
   "source": [
    "import os\n",
    "import pandas as pd\n",
    "import numpy as np\n",
    "\n",
    "from sklearn.preprocessing import StandardScaler\n",
    "\n",
    "DATA_DIR = '/Users/limengfeiyang/CMOR438-final-project/data/fashion_mnist'\n",
    "OUT_DIR  = '/Users/limengfeiyang/CMOR438-final-project/data/processed/fashion_mnist1'\n",
    "os.makedirs(OUT_DIR, exist_ok=True)\n"
   ]
  },
  {
   "cell_type": "code",
   "execution_count": 10,
   "id": "9056b646-27f5-4340-83eb-27d588a2dc25",
   "metadata": {},
   "outputs": [
    {
     "name": "stdout",
     "output_type": "stream",
     "text": [
      "Combined shape: (70000, 785)\n"
     ]
    }
   ],
   "source": [
    "df_train = pd.read_csv(os.path.join(DATA_DIR, 'train.csv'))\n",
    "df_test  = pd.read_csv(os.path.join(DATA_DIR, 'test.csv'))\n",
    "\n",
    "# Merge into one DataFrame\n",
    "df_all = pd.concat([df_train, df_test], ignore_index=True)\n",
    "print(\"Combined shape:\", df_all.shape)\n"
   ]
  },
  {
   "cell_type": "code",
   "execution_count": 11,
   "id": "0bdf08af-ae49-425d-b053-a3d574a62800",
   "metadata": {},
   "outputs": [
    {
     "name": "stdout",
     "output_type": "stream",
     "text": [
      "Any missing values?\n",
      " Series([], dtype: int64)\n",
      "Pixel range: 0 → 255\n"
     ]
    }
   ],
   "source": [
    "# Ensure there are no missing values\n",
    "missing = df_all.isna().sum()\n",
    "print(\"Any missing values?\\n\", missing[missing > 0])\n",
    "\n",
    "# Check pixel range\n",
    "pixels = df_all.iloc[:, 1:].values\n",
    "print(\"Pixel range:\", pixels.min(), \"→\", pixels.max())\n"
   ]
  },
  {
   "cell_type": "code",
   "execution_count": 12,
   "id": "caea2e6d-0d01-45f4-bab5-70cca511b286",
   "metadata": {},
   "outputs": [
    {
     "name": "stdout",
     "output_type": "stream",
     "text": [
      "Raw X shape: (70000, 784) y shape: (70000,)\n"
     ]
    }
   ],
   "source": [
    "# Labels (for later visualization)\n",
    "y = df_all['label'].values\n",
    "\n",
    "# Feature matrix of raw pixels\n",
    "X_raw = df_all.drop(columns=['label']).values\n",
    "print(\"Raw X shape:\", X_raw.shape, \"y shape:\", y.shape)\n"
   ]
  },
  {
   "cell_type": "code",
   "execution_count": 13,
   "id": "c63ffdd9-f434-493c-a4ba-6389865b441e",
   "metadata": {},
   "outputs": [
    {
     "name": "stdout",
     "output_type": "stream",
     "text": [
      "After normalization: min = 0.0 max = 1.0\n"
     ]
    }
   ],
   "source": [
    "# Scale from [0, 255] to [0.0, 1.0]\n",
    "X_norm = X_raw.astype('float32') / 255\n",
    "\n",
    "print(\"After normalization: min =\", X_norm.min(), \"max =\", X_norm.max())\n"
   ]
  },
  {
   "cell_type": "code",
   "execution_count": 14,
   "id": "6c992976-19ab-4717-9834-938c252d7120",
   "metadata": {},
   "outputs": [
    {
     "name": "stdout",
     "output_type": "stream",
     "text": [
      "After standardization: mean ~ -0.0  std ~ 1.0\n"
     ]
    }
   ],
   "source": [
    "# Zero mean, unit variance\n",
    "scaler = StandardScaler()\n",
    "X = scaler.fit_transform(X_norm)\n",
    "\n",
    "print(\"After standardization: mean ~\", X.mean().round(5), \" std ~\", X.std().round(5))\n"
   ]
  },
  {
   "cell_type": "code",
   "execution_count": 15,
   "id": "05adae37-0cc9-46f6-be07-c36292aeb192",
   "metadata": {},
   "outputs": [
    {
     "name": "stdout",
     "output_type": "stream",
     "text": [
      "Saved processed arrays to: /Users/limengfeiyang/CMOR438-final-project/data/processed/fashion_mnist1\n"
     ]
    }
   ],
   "source": [
    "# Full set\n",
    "np.save(os.path.join(OUT_DIR, 'X_fashion.npy'), X)\n",
    "np.save(os.path.join(OUT_DIR, 'y_fashion.npy'), y)\n",
    "\n",
    "print(\"Saved processed arrays to:\", OUT_DIR)\n"
   ]
  }
 ],
 "metadata": {
  "kernelspec": {
   "display_name": "Python 3 (ipykernel)",
   "language": "python",
   "name": "python3"
  },
  "language_info": {
   "codemirror_mode": {
    "name": "ipython",
    "version": 3
   },
   "file_extension": ".py",
   "mimetype": "text/x-python",
   "name": "python",
   "nbconvert_exporter": "python",
   "pygments_lexer": "ipython3",
   "version": "3.8.9"
  }
 },
 "nbformat": 4,
 "nbformat_minor": 5
}
