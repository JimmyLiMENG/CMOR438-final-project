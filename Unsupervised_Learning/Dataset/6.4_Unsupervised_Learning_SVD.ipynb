{
 "cells": [
  {
   "cell_type": "code",
   "execution_count": 4,
   "id": "934b199f-a91e-4164-8d4b-cc9b3285bfa8",
   "metadata": {},
   "outputs": [
    {
     "name": "stdout",
     "output_type": "stream",
     "text": [
      "Loaded 70000 images of shape 28×28\n"
     ]
    },
    {
     "data": {
      "image/png": "[encoded data removed]",
      "text/plain": [
       "<Figure size 1500x400 with 5 Axes>"
      ]
     },
     "metadata": {},
     "output_type": "display_data"
    },
    {
     "name": "stdout",
     "output_type": "stream",
     "text": [
      "k\tCompression Ratio\tMSE\n",
      "5\t0.3635\t\t0.0898\n",
      "15\t1.0906\t\t0.0018\n",
      "30\t2.1811\t\t0.0000\n",
      "50\t3.6352\t\t0.0000\n"
     ]
    }
   ],
   "source": [
    "import numpy as np\n",
    "import matplotlib.pyplot as plt\n",
    "from numpy.linalg import svd\n",
    "\n",
    "\n",
    "# Load the dataset\n",
    "X = np.load('/Users/limengfeiyang/CMOR438-final-project/data/processed/fashion_mnist1/X_fashion.npy')\n",
    "\n",
    "# If flat, reshape to images\n",
    "if X.ndim == 2:\n",
    "    X = X.reshape(-1, 28, 28)\n",
    "\n",
    "print(f\"Loaded {X.shape[0]} images of shape {X.shape[1]}×{X.shape[2]}\")\n",
    "\n",
    "\n",
    "# Define compression function using SVD\n",
    "def compress_svd(image, k):\n",
    "    \"\"\"\n",
    "    Compress a grayscale image by keeping only the top-k singular values.\n",
    "    \n",
    "    :param image: 2D numpy array (m × n)\n",
    "    :param k: number of singular values to retain\n",
    "    :return: reconstructed image of same shape\n",
    "    \"\"\"\n",
    "    U, S, VT = svd(image, full_matrices=False)\n",
    "    U_k = U[:, :k]\n",
    "    S_k = np.diag(S[:k])\n",
    "    VT_k = VT[:k, :]\n",
    "    return U_k @ S_k @ VT_k\n",
    "\n",
    "\n",
    "# Pick an example image\n",
    "idx = 0\n",
    "image = X[idx]\n",
    "\n",
    "# Compress and visualize for different k\n",
    "k_values = [5, 15, 30, 50]\n",
    "fig, axes = plt.subplots(1, len(k_values) + 1, figsize=(15, 4))\n",
    "\n",
    "# Show original\n",
    "axes[0].imshow(image, cmap='gray')\n",
    "axes[0].set_title('Original')\n",
    "axes[0].axis('off')\n",
    "\n",
    "# Show approximations\n",
    "for i, k in enumerate(k_values, start=1):\n",
    "    approx = compress_svd(image, k)\n",
    "    axes[i].imshow(approx, cmap='gray')\n",
    "    axes[i].set_title(f'k = {k}')\n",
    "    axes[i].axis('off')\n",
    "\n",
    "plt.tight_layout()\n",
    "plt.show()\n",
    "\n",
    "\n",
    "# Quantify compression ratio and reconstruction error\n",
    "m, n = image.shape\n",
    "print(\"k\\tCompression Ratio\\tMSE\")\n",
    "for k in k_values:\n",
    "    # ratio = (values stored) / (original pixels)\n",
    "    ratio = (k * (m + n + 1)) / (m * n)\n",
    "    approx = compress_svd(image, k)\n",
    "    mse = np.mean((image - approx) ** 2)\n",
    "    print(f\"{k}\\t{ratio:.4f}\\t\\t{mse:.4f}\")\n"
   ]
  },
  {
   "cell_type": "code",
   "execution_count": null,
   "id": "49f19a45-ff84-49ed-8d8e-5b599f7683a6",
   "metadata": {},
   "outputs": [],
   "source": []
  }
 ],
 "metadata": {
  "kernelspec": {
   "display_name": "Python 3 (ipykernel)",
   "language": "python",
   "name": "python3"
  },
  "language_info": {
   "codemirror_mode": {
    "name": "ipython",
    "version": 3
   },
   "file_extension": ".py",
   "mimetype": "text/x-python",
   "name": "python",
   "nbconvert_exporter": "python",
   "pygments_lexer": "ipython3",
   "version": "3.8.9"
  }
 },
 "nbformat": 4,
 "nbformat_minor": 5
}
